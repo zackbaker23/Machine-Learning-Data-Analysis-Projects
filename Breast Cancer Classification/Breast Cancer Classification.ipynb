{
 "cells": [
  {
   "cell_type": "markdown",
   "metadata": {},
   "source": [
    "# 1. Introduction"
   ]
  },
  {
   "cell_type": "markdown",
   "metadata": {},
   "source": [
    "In this project, we seek an appropriate algorithm to classify breast tumors as cancerous (malignant) or non-cancerous (benign). Each of the features in this data set comes from a digitized image of a fine needle aspirate (FNA) of a breast mass. The data comes from the Breast Cancer Wisconsin (Diagnostic) data set posted on Kaggle, which can be found here: https://www.kaggle.com/uciml/breast-cancer-wisconsin-data. "
   ]
  },
  {
   "cell_type": "code",
   "execution_count": 18,
   "metadata": {},
   "outputs": [],
   "source": [
    "#Load required packages\n",
    "library(readr)\n",
    "library(dplyr)\n",
    "library(ggplot2)\n",
    "library(corrplot)\n",
    "library(DescTools)\n",
    "library(caTools)\n",
    "library(pROC)\n",
    "library(class)\n",
    "library(randomForest)"
   ]
  },
  {
   "cell_type": "code",
   "execution_count": 5,
   "metadata": {},
   "outputs": [
    {
     "name": "stderr",
     "output_type": "stream",
     "text": [
      "Parsed with column specification:\n",
      "cols(\n",
      "  .default = col_double(),\n",
      "  diagnosis = \u001b[31mcol_character()\u001b[39m\n",
      ")\n",
      "\n",
      "See spec(...) for full column specifications.\n",
      "\n"
     ]
    },
    {
     "data": {
      "text/html": [
       "<table>\n",
       "<caption>A tibble: 6 × 32</caption>\n",
       "<thead>\n",
       "\t<tr><th scope=col>id</th><th scope=col>diagnosis</th><th scope=col>radius_mean</th><th scope=col>texture_mean</th><th scope=col>perimeter_mean</th><th scope=col>area_mean</th><th scope=col>smoothness_mean</th><th scope=col>compactness_mean</th><th scope=col>concavity_mean</th><th scope=col>concave_points_mean</th><th scope=col>...</th><th scope=col>radius_worst</th><th scope=col>texture_worst</th><th scope=col>perimeter_worst</th><th scope=col>area_worst</th><th scope=col>smoothness_worst</th><th scope=col>compactness_worst</th><th scope=col>concavity_worst</th><th scope=col>concave_points_worst</th><th scope=col>symmetry_worst</th><th scope=col>fractal_dimension_worst</th></tr>\n",
       "\t<tr><th scope=col>&lt;dbl&gt;</th><th scope=col>&lt;chr&gt;</th><th scope=col>&lt;dbl&gt;</th><th scope=col>&lt;dbl&gt;</th><th scope=col>&lt;dbl&gt;</th><th scope=col>&lt;dbl&gt;</th><th scope=col>&lt;dbl&gt;</th><th scope=col>&lt;dbl&gt;</th><th scope=col>&lt;dbl&gt;</th><th scope=col>&lt;dbl&gt;</th><th scope=col>...</th><th scope=col>&lt;dbl&gt;</th><th scope=col>&lt;dbl&gt;</th><th scope=col>&lt;dbl&gt;</th><th scope=col>&lt;dbl&gt;</th><th scope=col>&lt;dbl&gt;</th><th scope=col>&lt;dbl&gt;</th><th scope=col>&lt;dbl&gt;</th><th scope=col>&lt;dbl&gt;</th><th scope=col>&lt;dbl&gt;</th><th scope=col>&lt;dbl&gt;</th></tr>\n",
       "</thead>\n",
       "<tbody>\n",
       "\t<tr><td>  842302</td><td>M</td><td>17.99</td><td>10.38</td><td>122.80</td><td>1001.0</td><td>0.11840</td><td>0.27760</td><td>0.3001</td><td>0.14710</td><td>...</td><td>25.38</td><td>17.33</td><td>184.60</td><td>2019.0</td><td>0.1622</td><td>0.6656</td><td>0.7119</td><td>0.2654</td><td>0.4601</td><td>0.11890</td></tr>\n",
       "\t<tr><td>  842517</td><td>M</td><td>20.57</td><td>17.77</td><td>132.90</td><td>1326.0</td><td>0.08474</td><td>0.07864</td><td>0.0869</td><td>0.07017</td><td>...</td><td>24.99</td><td>23.41</td><td>158.80</td><td>1956.0</td><td>0.1238</td><td>0.1866</td><td>0.2416</td><td>0.1860</td><td>0.2750</td><td>0.08902</td></tr>\n",
       "\t<tr><td>84300903</td><td>M</td><td>19.69</td><td>21.25</td><td>130.00</td><td>1203.0</td><td>0.10960</td><td>0.15990</td><td>0.1974</td><td>0.12790</td><td>...</td><td>23.57</td><td>25.53</td><td>152.50</td><td>1709.0</td><td>0.1444</td><td>0.4245</td><td>0.4504</td><td>0.2430</td><td>0.3613</td><td>0.08758</td></tr>\n",
       "\t<tr><td>84348301</td><td>M</td><td>11.42</td><td>20.38</td><td> 77.58</td><td> 386.1</td><td>0.14250</td><td>0.28390</td><td>0.2414</td><td>0.10520</td><td>...</td><td>14.91</td><td>26.50</td><td> 98.87</td><td> 567.7</td><td>0.2098</td><td>0.8663</td><td>0.6869</td><td>0.2575</td><td>0.6638</td><td>0.17300</td></tr>\n",
       "\t<tr><td>84358402</td><td>M</td><td>20.29</td><td>14.34</td><td>135.10</td><td>1297.0</td><td>0.10030</td><td>0.13280</td><td>0.1980</td><td>0.10430</td><td>...</td><td>22.54</td><td>16.67</td><td>152.20</td><td>1575.0</td><td>0.1374</td><td>0.2050</td><td>0.4000</td><td>0.1625</td><td>0.2364</td><td>0.07678</td></tr>\n",
       "\t<tr><td>  843786</td><td>M</td><td>12.45</td><td>15.70</td><td> 82.57</td><td> 477.1</td><td>0.12780</td><td>0.17000</td><td>0.1578</td><td>0.08089</td><td>...</td><td>15.47</td><td>23.75</td><td>103.40</td><td> 741.6</td><td>0.1791</td><td>0.5249</td><td>0.5355</td><td>0.1741</td><td>0.3985</td><td>0.12440</td></tr>\n",
       "</tbody>\n",
       "</table>\n"
      ],
      "text/latex": [
       "A tibble: 6 × 32\n",
       "\\begin{tabular}{lllllllllllllllllllll}\n",
       " id & diagnosis & radius\\_mean & texture\\_mean & perimeter\\_mean & area\\_mean & smoothness\\_mean & compactness\\_mean & concavity\\_mean & concave\\_points\\_mean & ... & radius\\_worst & texture\\_worst & perimeter\\_worst & area\\_worst & smoothness\\_worst & compactness\\_worst & concavity\\_worst & concave\\_points\\_worst & symmetry\\_worst & fractal\\_dimension\\_worst\\\\\n",
       " <dbl> & <chr> & <dbl> & <dbl> & <dbl> & <dbl> & <dbl> & <dbl> & <dbl> & <dbl> & ... & <dbl> & <dbl> & <dbl> & <dbl> & <dbl> & <dbl> & <dbl> & <dbl> & <dbl> & <dbl>\\\\\n",
       "\\hline\n",
       "\t   842302 & M & 17.99 & 10.38 & 122.80 & 1001.0 & 0.11840 & 0.27760 & 0.3001 & 0.14710 & ... & 25.38 & 17.33 & 184.60 & 2019.0 & 0.1622 & 0.6656 & 0.7119 & 0.2654 & 0.4601 & 0.11890\\\\\n",
       "\t   842517 & M & 20.57 & 17.77 & 132.90 & 1326.0 & 0.08474 & 0.07864 & 0.0869 & 0.07017 & ... & 24.99 & 23.41 & 158.80 & 1956.0 & 0.1238 & 0.1866 & 0.2416 & 0.1860 & 0.2750 & 0.08902\\\\\n",
       "\t 84300903 & M & 19.69 & 21.25 & 130.00 & 1203.0 & 0.10960 & 0.15990 & 0.1974 & 0.12790 & ... & 23.57 & 25.53 & 152.50 & 1709.0 & 0.1444 & 0.4245 & 0.4504 & 0.2430 & 0.3613 & 0.08758\\\\\n",
       "\t 84348301 & M & 11.42 & 20.38 &  77.58 &  386.1 & 0.14250 & 0.28390 & 0.2414 & 0.10520 & ... & 14.91 & 26.50 &  98.87 &  567.7 & 0.2098 & 0.8663 & 0.6869 & 0.2575 & 0.6638 & 0.17300\\\\\n",
       "\t 84358402 & M & 20.29 & 14.34 & 135.10 & 1297.0 & 0.10030 & 0.13280 & 0.1980 & 0.10430 & ... & 22.54 & 16.67 & 152.20 & 1575.0 & 0.1374 & 0.2050 & 0.4000 & 0.1625 & 0.2364 & 0.07678\\\\\n",
       "\t   843786 & M & 12.45 & 15.70 &  82.57 &  477.1 & 0.12780 & 0.17000 & 0.1578 & 0.08089 & ... & 15.47 & 23.75 & 103.40 &  741.6 & 0.1791 & 0.5249 & 0.5355 & 0.1741 & 0.3985 & 0.12440\\\\\n",
       "\\end{tabular}\n"
      ],
      "text/markdown": [
       "\n",
       "A tibble: 6 × 32\n",
       "\n",
       "| id &lt;dbl&gt; | diagnosis &lt;chr&gt; | radius_mean &lt;dbl&gt; | texture_mean &lt;dbl&gt; | perimeter_mean &lt;dbl&gt; | area_mean &lt;dbl&gt; | smoothness_mean &lt;dbl&gt; | compactness_mean &lt;dbl&gt; | concavity_mean &lt;dbl&gt; | concave_points_mean &lt;dbl&gt; | ... ... | radius_worst &lt;dbl&gt; | texture_worst &lt;dbl&gt; | perimeter_worst &lt;dbl&gt; | area_worst &lt;dbl&gt; | smoothness_worst &lt;dbl&gt; | compactness_worst &lt;dbl&gt; | concavity_worst &lt;dbl&gt; | concave_points_worst &lt;dbl&gt; | symmetry_worst &lt;dbl&gt; | fractal_dimension_worst &lt;dbl&gt; |\n",
       "|---|---|---|---|---|---|---|---|---|---|---|---|---|---|---|---|---|---|---|---|---|\n",
       "|   842302 | M | 17.99 | 10.38 | 122.80 | 1001.0 | 0.11840 | 0.27760 | 0.3001 | 0.14710 | ... | 25.38 | 17.33 | 184.60 | 2019.0 | 0.1622 | 0.6656 | 0.7119 | 0.2654 | 0.4601 | 0.11890 |\n",
       "|   842517 | M | 20.57 | 17.77 | 132.90 | 1326.0 | 0.08474 | 0.07864 | 0.0869 | 0.07017 | ... | 24.99 | 23.41 | 158.80 | 1956.0 | 0.1238 | 0.1866 | 0.2416 | 0.1860 | 0.2750 | 0.08902 |\n",
       "| 84300903 | M | 19.69 | 21.25 | 130.00 | 1203.0 | 0.10960 | 0.15990 | 0.1974 | 0.12790 | ... | 23.57 | 25.53 | 152.50 | 1709.0 | 0.1444 | 0.4245 | 0.4504 | 0.2430 | 0.3613 | 0.08758 |\n",
       "| 84348301 | M | 11.42 | 20.38 |  77.58 |  386.1 | 0.14250 | 0.28390 | 0.2414 | 0.10520 | ... | 14.91 | 26.50 |  98.87 |  567.7 | 0.2098 | 0.8663 | 0.6869 | 0.2575 | 0.6638 | 0.17300 |\n",
       "| 84358402 | M | 20.29 | 14.34 | 135.10 | 1297.0 | 0.10030 | 0.13280 | 0.1980 | 0.10430 | ... | 22.54 | 16.67 | 152.20 | 1575.0 | 0.1374 | 0.2050 | 0.4000 | 0.1625 | 0.2364 | 0.07678 |\n",
       "|   843786 | M | 12.45 | 15.70 |  82.57 |  477.1 | 0.12780 | 0.17000 | 0.1578 | 0.08089 | ... | 15.47 | 23.75 | 103.40 |  741.6 | 0.1791 | 0.5249 | 0.5355 | 0.1741 | 0.3985 | 0.12440 |\n",
       "\n"
      ],
      "text/plain": [
       "  id       diagnosis radius_mean texture_mean perimeter_mean area_mean\n",
       "1   842302 M         17.99       10.38        122.80         1001.0   \n",
       "2   842517 M         20.57       17.77        132.90         1326.0   \n",
       "3 84300903 M         19.69       21.25        130.00         1203.0   \n",
       "4 84348301 M         11.42       20.38         77.58          386.1   \n",
       "5 84358402 M         20.29       14.34        135.10         1297.0   \n",
       "6   843786 M         12.45       15.70         82.57          477.1   \n",
       "  smoothness_mean compactness_mean concavity_mean concave_points_mean ...\n",
       "1 0.11840         0.27760          0.3001         0.14710             ...\n",
       "2 0.08474         0.07864          0.0869         0.07017             ...\n",
       "3 0.10960         0.15990          0.1974         0.12790             ...\n",
       "4 0.14250         0.28390          0.2414         0.10520             ...\n",
       "5 0.10030         0.13280          0.1980         0.10430             ...\n",
       "6 0.12780         0.17000          0.1578         0.08089             ...\n",
       "  radius_worst texture_worst perimeter_worst area_worst smoothness_worst\n",
       "1 25.38        17.33         184.60          2019.0     0.1622          \n",
       "2 24.99        23.41         158.80          1956.0     0.1238          \n",
       "3 23.57        25.53         152.50          1709.0     0.1444          \n",
       "4 14.91        26.50          98.87           567.7     0.2098          \n",
       "5 22.54        16.67         152.20          1575.0     0.1374          \n",
       "6 15.47        23.75         103.40           741.6     0.1791          \n",
       "  compactness_worst concavity_worst concave_points_worst symmetry_worst\n",
       "1 0.6656            0.7119          0.2654               0.4601        \n",
       "2 0.1866            0.2416          0.1860               0.2750        \n",
       "3 0.4245            0.4504          0.2430               0.3613        \n",
       "4 0.8663            0.6869          0.2575               0.6638        \n",
       "5 0.2050            0.4000          0.1625               0.2364        \n",
       "6 0.5249            0.5355          0.1741               0.3985        \n",
       "  fractal_dimension_worst\n",
       "1 0.11890                \n",
       "2 0.08902                \n",
       "3 0.08758                \n",
       "4 0.17300                \n",
       "5 0.07678                \n",
       "6 0.12440                "
      ]
     },
     "metadata": {},
     "output_type": "display_data"
    }
   ],
   "source": [
    "#Load the data file\n",
    "raw_bc_data <- read_csv(\"Breast Cancer Data.csv\")\n",
    "head(raw_bc_data)"
   ]
  },
  {
   "cell_type": "markdown",
   "metadata": {},
   "source": [
    "The data set has 32 variables, including a variety of different tumor characteristics. The id variable is not very useful for us, so we remove it in the next step. The diagnosis variable is the dependent variable in our analysis, so we will transform it from a character to a factor variable.  "
   ]
  },
  {
   "cell_type": "code",
   "execution_count": 6,
   "metadata": {},
   "outputs": [],
   "source": [
    "#Remove first column, turn diagnosis into a factor\n",
    "bc_data <- raw_bc_data[,-1]\n",
    "bc_data$diagnosis <- as.factor(bc_data$diagnosis)"
   ]
  },
  {
   "cell_type": "markdown",
   "metadata": {},
   "source": [
    "# 2. Exploratory Data Analysis"
   ]
  },
  {
   "cell_type": "markdown",
   "metadata": {},
   "source": [
    "Next we turn to exploratory analysis of the data. We start by checking for missing values and generating simple summary statistics."
   ]
  },
  {
   "cell_type": "code",
   "execution_count": 7,
   "metadata": {},
   "outputs": [
    {
     "data": {
      "text/html": [
       "<style>\n",
       ".dl-inline {width: auto; margin:0; padding: 0}\n",
       ".dl-inline>dt, .dl-inline>dd {float: none; width: auto; display: inline-block}\n",
       ".dl-inline>dt::after {content: \":\\0020\"; padding-right: .5ex}\n",
       ".dl-inline>dt:not(:first-of-type) {padding-left: .5ex}\n",
       "</style><dl class=dl-inline><dt>diagnosis</dt><dd>0</dd><dt>radius_mean</dt><dd>0</dd><dt>texture_mean</dt><dd>0</dd><dt>perimeter_mean</dt><dd>0</dd><dt>area_mean</dt><dd>0</dd><dt>smoothness_mean</dt><dd>0</dd><dt>compactness_mean</dt><dd>0</dd><dt>concavity_mean</dt><dd>0</dd><dt>concave_points_mean</dt><dd>0</dd><dt>symmetry_mean</dt><dd>0</dd><dt>fractal_dimension_mean</dt><dd>0</dd><dt>radius_se</dt><dd>0</dd><dt>texture_se</dt><dd>0</dd><dt>perimeter_se</dt><dd>0</dd><dt>area_se</dt><dd>0</dd><dt>smoothness_se</dt><dd>0</dd><dt>compactness_se</dt><dd>0</dd><dt>concavity_se</dt><dd>0</dd><dt>concave_points_se</dt><dd>0</dd><dt>symmetry_se</dt><dd>0</dd><dt>fractal_dimension_se</dt><dd>0</dd><dt>radius_worst</dt><dd>0</dd><dt>texture_worst</dt><dd>0</dd><dt>perimeter_worst</dt><dd>0</dd><dt>area_worst</dt><dd>0</dd><dt>smoothness_worst</dt><dd>0</dd><dt>compactness_worst</dt><dd>0</dd><dt>concavity_worst</dt><dd>0</dd><dt>concave_points_worst</dt><dd>0</dd><dt>symmetry_worst</dt><dd>0</dd><dt>fractal_dimension_worst</dt><dd>0</dd></dl>\n"
      ],
      "text/latex": [
       "\\begin{description*}\n",
       "\\item[diagnosis] 0\n",
       "\\item[radius\\textbackslash{}\\_mean] 0\n",
       "\\item[texture\\textbackslash{}\\_mean] 0\n",
       "\\item[perimeter\\textbackslash{}\\_mean] 0\n",
       "\\item[area\\textbackslash{}\\_mean] 0\n",
       "\\item[smoothness\\textbackslash{}\\_mean] 0\n",
       "\\item[compactness\\textbackslash{}\\_mean] 0\n",
       "\\item[concavity\\textbackslash{}\\_mean] 0\n",
       "\\item[concave\\textbackslash{}\\_points\\textbackslash{}\\_mean] 0\n",
       "\\item[symmetry\\textbackslash{}\\_mean] 0\n",
       "\\item[fractal\\textbackslash{}\\_dimension\\textbackslash{}\\_mean] 0\n",
       "\\item[radius\\textbackslash{}\\_se] 0\n",
       "\\item[texture\\textbackslash{}\\_se] 0\n",
       "\\item[perimeter\\textbackslash{}\\_se] 0\n",
       "\\item[area\\textbackslash{}\\_se] 0\n",
       "\\item[smoothness\\textbackslash{}\\_se] 0\n",
       "\\item[compactness\\textbackslash{}\\_se] 0\n",
       "\\item[concavity\\textbackslash{}\\_se] 0\n",
       "\\item[concave\\textbackslash{}\\_points\\textbackslash{}\\_se] 0\n",
       "\\item[symmetry\\textbackslash{}\\_se] 0\n",
       "\\item[fractal\\textbackslash{}\\_dimension\\textbackslash{}\\_se] 0\n",
       "\\item[radius\\textbackslash{}\\_worst] 0\n",
       "\\item[texture\\textbackslash{}\\_worst] 0\n",
       "\\item[perimeter\\textbackslash{}\\_worst] 0\n",
       "\\item[area\\textbackslash{}\\_worst] 0\n",
       "\\item[smoothness\\textbackslash{}\\_worst] 0\n",
       "\\item[compactness\\textbackslash{}\\_worst] 0\n",
       "\\item[concavity\\textbackslash{}\\_worst] 0\n",
       "\\item[concave\\textbackslash{}\\_points\\textbackslash{}\\_worst] 0\n",
       "\\item[symmetry\\textbackslash{}\\_worst] 0\n",
       "\\item[fractal\\textbackslash{}\\_dimension\\textbackslash{}\\_worst] 0\n",
       "\\end{description*}\n"
      ],
      "text/markdown": [
       "diagnosis\n",
       ":   0radius_mean\n",
       ":   0texture_mean\n",
       ":   0perimeter_mean\n",
       ":   0area_mean\n",
       ":   0smoothness_mean\n",
       ":   0compactness_mean\n",
       ":   0concavity_mean\n",
       ":   0concave_points_mean\n",
       ":   0symmetry_mean\n",
       ":   0fractal_dimension_mean\n",
       ":   0radius_se\n",
       ":   0texture_se\n",
       ":   0perimeter_se\n",
       ":   0area_se\n",
       ":   0smoothness_se\n",
       ":   0compactness_se\n",
       ":   0concavity_se\n",
       ":   0concave_points_se\n",
       ":   0symmetry_se\n",
       ":   0fractal_dimension_se\n",
       ":   0radius_worst\n",
       ":   0texture_worst\n",
       ":   0perimeter_worst\n",
       ":   0area_worst\n",
       ":   0smoothness_worst\n",
       ":   0compactness_worst\n",
       ":   0concavity_worst\n",
       ":   0concave_points_worst\n",
       ":   0symmetry_worst\n",
       ":   0fractal_dimension_worst\n",
       ":   0\n",
       "\n"
      ],
      "text/plain": [
       "              diagnosis             radius_mean            texture_mean \n",
       "                      0                       0                       0 \n",
       "         perimeter_mean               area_mean         smoothness_mean \n",
       "                      0                       0                       0 \n",
       "       compactness_mean          concavity_mean     concave_points_mean \n",
       "                      0                       0                       0 \n",
       "          symmetry_mean  fractal_dimension_mean               radius_se \n",
       "                      0                       0                       0 \n",
       "             texture_se            perimeter_se                 area_se \n",
       "                      0                       0                       0 \n",
       "          smoothness_se          compactness_se            concavity_se \n",
       "                      0                       0                       0 \n",
       "      concave_points_se             symmetry_se    fractal_dimension_se \n",
       "                      0                       0                       0 \n",
       "           radius_worst           texture_worst         perimeter_worst \n",
       "                      0                       0                       0 \n",
       "             area_worst        smoothness_worst       compactness_worst \n",
       "                      0                       0                       0 \n",
       "        concavity_worst    concave_points_worst          symmetry_worst \n",
       "                      0                       0                       0 \n",
       "fractal_dimension_worst \n",
       "                      0 "
      ]
     },
     "metadata": {},
     "output_type": "display_data"
    },
    {
     "data": {
      "text/plain": [
       " diagnosis  radius_mean      texture_mean   perimeter_mean     area_mean     \n",
       " B:357     Min.   : 6.981   Min.   : 9.71   Min.   : 43.79   Min.   : 143.5  \n",
       " M:212     1st Qu.:11.700   1st Qu.:16.17   1st Qu.: 75.17   1st Qu.: 420.3  \n",
       "           Median :13.370   Median :18.84   Median : 86.24   Median : 551.1  \n",
       "           Mean   :14.127   Mean   :19.29   Mean   : 91.97   Mean   : 654.9  \n",
       "           3rd Qu.:15.780   3rd Qu.:21.80   3rd Qu.:104.10   3rd Qu.: 782.7  \n",
       "           Max.   :28.110   Max.   :39.28   Max.   :188.50   Max.   :2501.0  \n",
       " smoothness_mean   compactness_mean  concavity_mean    concave_points_mean\n",
       " Min.   :0.05263   Min.   :0.01938   Min.   :0.00000   Min.   :0.00000    \n",
       " 1st Qu.:0.08637   1st Qu.:0.06492   1st Qu.:0.02956   1st Qu.:0.02031    \n",
       " Median :0.09587   Median :0.09263   Median :0.06154   Median :0.03350    \n",
       " Mean   :0.09636   Mean   :0.10434   Mean   :0.08880   Mean   :0.04892    \n",
       " 3rd Qu.:0.10530   3rd Qu.:0.13040   3rd Qu.:0.13070   3rd Qu.:0.07400    \n",
       " Max.   :0.16340   Max.   :0.34540   Max.   :0.42680   Max.   :0.20120    \n",
       " symmetry_mean    fractal_dimension_mean   radius_se        texture_se    \n",
       " Min.   :0.1060   Min.   :0.04996        Min.   :0.1115   Min.   :0.3602  \n",
       " 1st Qu.:0.1619   1st Qu.:0.05770        1st Qu.:0.2324   1st Qu.:0.8339  \n",
       " Median :0.1792   Median :0.06154        Median :0.3242   Median :1.1080  \n",
       " Mean   :0.1812   Mean   :0.06280        Mean   :0.4052   Mean   :1.2169  \n",
       " 3rd Qu.:0.1957   3rd Qu.:0.06612        3rd Qu.:0.4789   3rd Qu.:1.4740  \n",
       " Max.   :0.3040   Max.   :0.09744        Max.   :2.8730   Max.   :4.8850  \n",
       "  perimeter_se       area_se        smoothness_se      compactness_se    \n",
       " Min.   : 0.757   Min.   :  6.802   Min.   :0.001713   Min.   :0.002252  \n",
       " 1st Qu.: 1.606   1st Qu.: 17.850   1st Qu.:0.005169   1st Qu.:0.013080  \n",
       " Median : 2.287   Median : 24.530   Median :0.006380   Median :0.020450  \n",
       " Mean   : 2.866   Mean   : 40.337   Mean   :0.007041   Mean   :0.025478  \n",
       " 3rd Qu.: 3.357   3rd Qu.: 45.190   3rd Qu.:0.008146   3rd Qu.:0.032450  \n",
       " Max.   :21.980   Max.   :542.200   Max.   :0.031130   Max.   :0.135400  \n",
       "  concavity_se     concave_points_se   symmetry_se       fractal_dimension_se\n",
       " Min.   :0.00000   Min.   :0.000000   Min.   :0.007882   Min.   :0.0008948   \n",
       " 1st Qu.:0.01509   1st Qu.:0.007638   1st Qu.:0.015160   1st Qu.:0.0022480   \n",
       " Median :0.02589   Median :0.010930   Median :0.018730   Median :0.0031870   \n",
       " Mean   :0.03189   Mean   :0.011796   Mean   :0.020542   Mean   :0.0037949   \n",
       " 3rd Qu.:0.04205   3rd Qu.:0.014710   3rd Qu.:0.023480   3rd Qu.:0.0045580   \n",
       " Max.   :0.39600   Max.   :0.052790   Max.   :0.078950   Max.   :0.0298400   \n",
       "  radius_worst   texture_worst   perimeter_worst    area_worst    \n",
       " Min.   : 7.93   Min.   :12.02   Min.   : 50.41   Min.   : 185.2  \n",
       " 1st Qu.:13.01   1st Qu.:21.08   1st Qu.: 84.11   1st Qu.: 515.3  \n",
       " Median :14.97   Median :25.41   Median : 97.66   Median : 686.5  \n",
       " Mean   :16.27   Mean   :25.68   Mean   :107.26   Mean   : 880.6  \n",
       " 3rd Qu.:18.79   3rd Qu.:29.72   3rd Qu.:125.40   3rd Qu.:1084.0  \n",
       " Max.   :36.04   Max.   :49.54   Max.   :251.20   Max.   :4254.0  \n",
       " smoothness_worst  compactness_worst concavity_worst  concave_points_worst\n",
       " Min.   :0.07117   Min.   :0.02729   Min.   :0.0000   Min.   :0.00000     \n",
       " 1st Qu.:0.11660   1st Qu.:0.14720   1st Qu.:0.1145   1st Qu.:0.06493     \n",
       " Median :0.13130   Median :0.21190   Median :0.2267   Median :0.09993     \n",
       " Mean   :0.13237   Mean   :0.25427   Mean   :0.2722   Mean   :0.11461     \n",
       " 3rd Qu.:0.14600   3rd Qu.:0.33910   3rd Qu.:0.3829   3rd Qu.:0.16140     \n",
       " Max.   :0.22260   Max.   :1.05800   Max.   :1.2520   Max.   :0.29100     \n",
       " symmetry_worst   fractal_dimension_worst\n",
       " Min.   :0.1565   Min.   :0.05504        \n",
       " 1st Qu.:0.2504   1st Qu.:0.07146        \n",
       " Median :0.2822   Median :0.08004        \n",
       " Mean   :0.2901   Mean   :0.08395        \n",
       " 3rd Qu.:0.3179   3rd Qu.:0.09208        \n",
       " Max.   :0.6638   Max.   :0.20750        "
      ]
     },
     "metadata": {},
     "output_type": "display_data"
    }
   ],
   "source": [
    "#Check for missing values\n",
    "sapply(bc_data, function(x) sum(is.na(x)))\n",
    "\n",
    "#Obtain summary statistics\n",
    "summary(bc_data)"
   ]
  },
  {
   "cell_type": "markdown",
   "metadata": {},
   "source": [
    "As shown above, there is no missing data. The scales of some variables differ by several orders of magnitude, so it will be helpful to normalize the data before performing classification. Next we examine the balance of categories of the outcome variable (diagnosis)."
   ]
  },
  {
   "cell_type": "code",
   "execution_count": 8,
   "metadata": {},
   "outputs": [
    {
     "data": {
      "image/png": "[encoded data removed]",
      "text/plain": [
       "plot without title"
      ]
     },
     "metadata": {
      "image/png": {
       "height": 420,
       "width": 420
      }
     },
     "output_type": "display_data"
    }
   ],
   "source": [
    "#Bar chart of benign vs. malignant\n",
    "plot_1 <- ggplot(bc_data, aes(x = diagnosis, fill = diagnosis)) +\n",
    "  geom_bar()\n",
    "plot_1"
   ]
  },
  {
   "cell_type": "markdown",
   "metadata": {},
   "source": [
    "We can see that there are more benign than malignant tumors, but the categories are not so imbalanced as to warrant a non-standard analysis technique. \n",
    "\n",
    "Now we examine the correlations between the various tumor characteristics. The plot below shows the correlations between each set of predictors in the data set. The dark blue circles indicate that many of the variables are highly correlated. This could negatively impact the accuracy of our classification algorithms, so we will handle this problem in the next step of our analysis."
   ]
  },
  {
   "cell_type": "code",
   "execution_count": 19,
   "metadata": {},
   "outputs": [
    {
     "data": {
      "image/png": "[encoded data removed]",
      "text/plain": [
       "Plot with title \"\""
      ]
     },
     "metadata": {
      "image/png": {
       "height": 420,
       "width": 420
      }
     },
     "output_type": "display_data"
    }
   ],
   "source": [
    "#Examining correlations between factors\n",
    "M <- cor(bc_data[, -1])\n",
    "corrplot(M, method = \"circle\", tl.cex=0.7, order=\"hclust\")"
   ]
  },
  {
   "cell_type": "markdown",
   "metadata": {},
   "source": [
    "# 3. PCA Transformation"
   ]
  },
  {
   "cell_type": "markdown",
   "metadata": {},
   "source": [
    "The exploratory analysis above reveals two main issues with the data: the values of the features are on very different scales and there is a high degree of multicollinearity between many of the predictors. To deal with both problems at once, we implement principal component analysis (PCA). PCA is a technique for reducing the dimensionality of data while simultaneously minimizing information loss. It does so by using creating a set of linear combinations of the original variables that are uncorrelated and successively maximize variance. PCA can also be used for feature normalization, meaning that the values of each of the resulting principal components are on the same scale. The downside of this transformation is that we can no longer identify the relative importance of the original predictors to the resulting model. Because our goal is simply to produce an accurate classifier, we are willing accept this tradeoff and proceed with a PCA transformation.\n",
    "\n",
    "Before applying PCA, we break the data into training and test sets. We use 2/3 of the data to train our models, and the other 1/3 to test the accuracy of each classifier."
   ]
  },
  {
   "cell_type": "code",
   "execution_count": 20,
   "metadata": {},
   "outputs": [
    {
     "data": {
      "text/plain": [
       "Importance of components:\n",
       "                          PC1    PC2     PC3     PC4    PC5     PC6     PC7\n",
       "Standard deviation     3.5718 2.4374 1.70866 1.42629 1.3030 1.13910 0.80269\n",
       "Proportion of Variance 0.4253 0.1980 0.09732 0.06781 0.0566 0.04325 0.02148\n",
       "Cumulative Proportion  0.4253 0.6233 0.72062 0.78843 0.8450 0.88827 0.90975\n",
       "                          PC8     PC9    PC10    PC11    PC12    PC13   PC14\n",
       "Standard deviation     0.6730 0.65909 0.61414 0.56990 0.51852 0.45705 0.4063\n",
       "Proportion of Variance 0.0151 0.01448 0.01257 0.01083 0.00896 0.00696 0.0055\n",
       "Cumulative Proportion  0.9248 0.93933 0.95190 0.96273 0.97169 0.97865 0.9841\n",
       "                          PC15    PC16    PC17    PC18    PC19    PC20    PC21\n",
       "Standard deviation     0.29593 0.27837 0.23574 0.22158 0.20643 0.17669 0.17419\n",
       "Proportion of Variance 0.00292 0.00258 0.00185 0.00164 0.00142 0.00104 0.00101\n",
       "Cumulative Proportion  0.98707 0.98966 0.99151 0.99315 0.99457 0.99561 0.99662\n",
       "                         PC22    PC23    PC24    PC25    PC26    PC27    PC28\n",
       "Standard deviation     0.1735 0.14138 0.13788 0.12436 0.08989 0.08026 0.03865\n",
       "Proportion of Variance 0.0010 0.00067 0.00063 0.00052 0.00027 0.00021 0.00005\n",
       "Cumulative Proportion  0.9976 0.99829 0.99892 0.99944 0.99971 0.99992 0.99997\n",
       "                          PC29    PC30\n",
       "Standard deviation     0.02757 0.01063\n",
       "Proportion of Variance 0.00003 0.00000\n",
       "Cumulative Proportion  1.00000 1.00000"
      ]
     },
     "metadata": {},
     "output_type": "display_data"
    }
   ],
   "source": [
    "#Break data into training and test sets\n",
    "set.seed(42)\n",
    "bc_data$spl <- sample.split(bc_data$diagnosis)\n",
    "bc_data_train <- bc_data %>% filter(spl == \"TRUE\")\n",
    "bc_data_test <- bc_data %>% filter(spl == \"FALSE\")\n",
    "\n",
    "#Prepare training and test data for PCA. Use all rows but \"diagnosis\" in wisc_data, set \"diagnosis\" as a separate vector.\n",
    "diagnosis_train <- bc_data_train$diagnosis\n",
    "diagnosis_test <- bc_data_test$diagnosis\n",
    "wisc_data_train <- bc_data_train[,-c(1,32)]\n",
    "wisc_data_test <- bc_data_test[,-c(1,32)]\n",
    "\n",
    "#Run PCA to reduce dimension of the training set and normalize features\n",
    "wisc_pr_train <- prcomp(wisc_data_train, center = TRUE, scale = TRUE)\n",
    "summary(wisc_pr_train)"
   ]
  },
  {
   "cell_type": "markdown",
   "metadata": {},
   "source": [
    "After using PCA, we must choose the number of principal components to use as predictors for our classifiers. We decide to use the first seven principal components, because together they capture over 90% of the variance of the original data. Thus our data set is reduced from 30 predictors to seven, while retaining most of the variance of the original data set. As mentioned above, this transformation comes with the tradeoff of interpretability, as we can no longer see the impact of each original variable to the predictions of the classification algorithms.\n",
    "\n",
    "In the next step, we use the same PCA transformation used on the training data to transform the test data. Then we add the diagnosis vector from the original data set to the new PCA-transformed training and test sets. Now we are prepared to attempt our first model, logistic regression."
   ]
  },
  {
   "cell_type": "code",
   "execution_count": 11,
   "metadata": {},
   "outputs": [],
   "source": [
    "#Transform the test data using the PCA function from training data\n",
    "wisc_pr_test <- predict(wisc_pr_train, wisc_data_test)\n",
    "wisc_pr_test <- as_tibble(wisc_pr_test) %>% select(PC1:PC7)\n",
    "wisc_pr_train <- as_tibble(wisc_pr_train$x) %>% select(PC1:PC7)\n",
    "\n",
    "#Combine diagnosis vector to principal components matrix\n",
    "wisc_pr_train$diagnosis <- diagnosis_train\n",
    "wisc_pr_test$diagnosis <- diagnosis_test"
   ]
  },
  {
   "cell_type": "markdown",
   "metadata": {},
   "source": [
    "# 4. Logistic Regression"
   ]
  },
  {
   "cell_type": "markdown",
   "metadata": {},
   "source": [
    "After transforming the data, we proceed with fitting a logistic regression model to the training data using the first seven principal components as predictors."
   ]
  },
  {
   "cell_type": "code",
   "execution_count": 12,
   "metadata": {},
   "outputs": [
    {
     "name": "stderr",
     "output_type": "stream",
     "text": [
      "Warning message:\n",
      "\"glm.fit: fitted probabilities numerically 0 or 1 occurred\"\n"
     ]
    },
    {
     "data": {
      "text/plain": [
       "\n",
       "Call:\n",
       "glm(formula = diagnosis ~ PC1 + PC2 + PC3 + PC4 + PC5 + PC6 + \n",
       "    PC7, family = \"binomial\", data = wisc_pr_train)\n",
       "\n",
       "Deviance Residuals: \n",
       "     Min        1Q    Median        3Q       Max  \n",
       "-1.51021  -0.02409  -0.00152   0.00034   2.73132  \n",
       "\n",
       "Coefficients:\n",
       "            Estimate Std. Error z value Pr(>|z|)    \n",
       "(Intercept) -1.03034    0.51798  -1.989 0.046685 *  \n",
       "PC1         -3.33100    0.67358  -4.945 7.61e-07 ***\n",
       "PC2          1.95512    0.50983   3.835 0.000126 ***\n",
       "PC3         -0.83151    0.33774  -2.462 0.013818 *  \n",
       "PC4         -1.12065    0.31356  -3.574 0.000352 ***\n",
       "PC5          2.10107    0.67682   3.104 0.001907 ** \n",
       "PC6         -0.07607    0.31783  -0.239 0.810831    \n",
       "PC7          0.22540    0.64093   0.352 0.725084    \n",
       "---\n",
       "Signif. codes:  0 '***' 0.001 '**' 0.01 '*' 0.05 '.' 0.1 ' ' 1\n",
       "\n",
       "(Dispersion parameter for binomial family taken to be 1)\n",
       "\n",
       "    Null deviance: 500.301  on 378  degrees of freedom\n",
       "Residual deviance:  47.227  on 371  degrees of freedom\n",
       "AIC: 63.227\n",
       "\n",
       "Number of Fisher Scoring iterations: 10\n"
      ]
     },
     "metadata": {},
     "output_type": "display_data"
    }
   ],
   "source": [
    "#Logistic regression with remaining variables\n",
    "summary(log_model <- glm(diagnosis ~ PC1 + PC2 + PC3 + PC4 + PC5 + PC6 + PC7, family = \"binomial\", data = wisc_pr_train))"
   ]
  },
  {
   "cell_type": "markdown",
   "metadata": {},
   "source": [
    "As the warning message above indicates, there is an issue with complete or quasi-complete separation in the data. This generally leads to inflated coefficient estimates and standard errors. The PCA transformation makes coefficient interpretation meaningless anyway, so this should not impact our analysis. In some cases, separation can cause a poor fit to unseen data, so we will test the model on the test data to see if this is a problem.\n",
    "\n",
    "It is important to note that rather than predicting the class to which an observation belongs, the model outputs the estimated probability of a response. In this case, our model does not predict whether a given tumor is benign or malignant, it simply computes the estimated probability that the tumor is malignant. To transform this into a prediction, we must choose a cutoff or threshold value. Tumors assigned a probability above the threshold value are classified as malignant, while tumors with probabilities below this value are classified as benign. For simplicity, we set a threshold value of 0.5."
   ]
  },
  {
   "cell_type": "code",
   "execution_count": 22,
   "metadata": {},
   "outputs": [
    {
     "data": {
      "text/plain": [
       "         \n",
       "predicted   B   M\n",
       "        0 119   6\n",
       "        1   0  65"
      ]
     },
     "metadata": {},
     "output_type": "display_data"
    },
    {
     "data": {
      "text/html": [
       "0.968421052631579"
      ],
      "text/latex": [
       "0.968421052631579"
      ],
      "text/markdown": [
       "0.968421052631579"
      ],
      "text/plain": [
       "[1] 0.9684211"
      ]
     },
     "metadata": {},
     "output_type": "display_data"
    },
    {
     "name": "stderr",
     "output_type": "stream",
     "text": [
      "Setting levels: control = B, case = M\n",
      "\n",
      "Setting direction: controls < cases\n",
      "\n"
     ]
    },
    {
     "data": {
      "text/plain": [
       "\n",
       "Call:\n",
       "roc.default(response = wisc_pr_test$diagnosis, predictor = predicted,     percent = TRUE, plot = TRUE, legacy.axes = TRUE, xlab = \"False Positive Percentage\",     ylab = \"True Positive Percentage\", col = \"#377eb8\", lwd = 4,     print.auc = TRUE)\n",
       "\n",
       "Data: predicted in 119 controls (wisc_pr_test$diagnosis B) < 71 cases (wisc_pr_test$diagnosis M).\n",
       "Area under the curve: 95.77%"
      ]
     },
     "metadata": {},
     "output_type": "display_data"
    },
    {
     "data": {
      "image/png": "[encoded data removed]",
      "text/plain": [
       "plot without title"
      ]
     },
     "metadata": {
      "image/png": {
       "height": 420,
       "width": 420
      }
     },
     "output_type": "display_data"
    }
   ],
   "source": [
    "#Computing accuracy on the test set\n",
    "predicted <- predict(log_model, wisc_pr_test[,1:7], type = \"response\")\n",
    "predicted <- ifelse(predicted > 0.5, 1, 0)\n",
    "d <- table(predicted, wisc_pr_test$diagnosis)\n",
    "d\n",
    "sum(diag(d))/sum(d)\n",
    "\n",
    "#Plot ROC curve\n",
    "par(pty = \"s\")\n",
    "roc(wisc_pr_test$diagnosis, predicted, plot = TRUE, legacy.axes = TRUE, percent = TRUE,\n",
    "    xlab = \"False Positive Percentage\", ylab = \"True Positive Percentage\", col = \"#377eb8\", lwd = 4,\n",
    "    print.auc = TRUE)"
   ]
  },
  {
   "cell_type": "markdown",
   "metadata": {},
   "source": [
    "The logistic regression model correctly classifies 96.8% of the observations in the test data. This impressive performance mitigates our worries about separation in the data.\n",
    "\n",
    "The ROC curve for the model is shown above. This curve shows us how well the model performs at distinguishing between the two classes on a scale of 0% to 100%, where 100% represents perfect discrimination. An AUC value of 95.8% tells us that the model is very effective at distinguishing malignant and benign cases.\n",
    "\n",
    "Next, we will try a k-nearest neighbors (kNN) model to see if we can improve on this performance."
   ]
  },
  {
   "cell_type": "markdown",
   "metadata": {},
   "source": [
    "# 5. kNN"
   ]
  },
  {
   "cell_type": "markdown",
   "metadata": {},
   "source": [
    "kNN is a common classification tool for supervised learning. We start by training the algorithm with our training data that has already been classified into benign and malignant categories. For a given test case, the algorithm calculates the Euclidean distance between the test case and each of the training examples to identify the closest k points to the test case. The test case is then classified as belonging to the category to which a majority of the k nearest neighbors belong. A simple example may be illustrative: If k = 11, the algorithm identifies the 11 nearest points to a given test case. If 7 of these points are classified as benign and 4 are classified as malignant, the test case is predicted to be benign.\n",
    "\n",
    "A common rule of thumb is to run kNN with k = $\\sqrt{N}$, where N is the number of observations in the training set. We have 379 observations in the training set, so we follow this convention and use a k value of 19. Once again, we use the PCA-transformed data to produce the model, as non-normalized data could be problematic for classification."
   ]
  },
  {
   "cell_type": "code",
   "execution_count": 14,
   "metadata": {},
   "outputs": [
    {
     "data": {
      "text/plain": [
       "        \n",
       "wisc_knn   B   M\n",
       "       B 118  10\n",
       "       M   1  61"
      ]
     },
     "metadata": {},
     "output_type": "display_data"
    },
    {
     "data": {
      "text/html": [
       "0.942105263157895"
      ],
      "text/latex": [
       "0.942105263157895"
      ],
      "text/markdown": [
       "0.942105263157895"
      ],
      "text/plain": [
       "[1] 0.9421053"
      ]
     },
     "metadata": {},
     "output_type": "display_data"
    },
    {
     "name": "stderr",
     "output_type": "stream",
     "text": [
      "Setting levels: control = B, case = M\n",
      "\n",
      "Setting direction: controls < cases\n",
      "\n"
     ]
    },
    {
     "data": {
      "text/plain": [
       "\n",
       "Call:\n",
       "roc.default(response = wisc_pr_test$diagnosis, predictor = as.numeric(wisc_knn),     percent = TRUE, plot = TRUE, legacy.axes = TRUE, xlab = \"False Positive Percentage\",     ylab = \"True Positive Percentage\", col = \"#4daf4a\", lwd = 4,     print.auc = TRUE)\n",
       "\n",
       "Data: as.numeric(wisc_knn) in 119 controls (wisc_pr_test$diagnosis B) < 71 cases (wisc_pr_test$diagnosis M).\n",
       "Area under the curve: 92.54%"
      ]
     },
     "metadata": {},
     "output_type": "display_data"
    },
    {
     "data": {
      "image/png": "[encoded data removed]",
      "text/plain": [
       "plot without title"
      ]
     },
     "metadata": {
      "image/png": {
       "height": 420,
       "width": 420
      }
     },
     "output_type": "display_data"
    }
   ],
   "source": [
    "#Run the kNN model\n",
    "set.seed(42)\n",
    "wisc_knn <- knn(wisc_pr_train[,1:7], wisc_pr_test[,1:7], cl = diagnosis_train, k = 19)\n",
    "f <- table(wisc_knn, wisc_pr_test$diagnosis)\n",
    "f\n",
    "sum(diag(f))/sum(f)\n",
    "\n",
    "#Plot ROC curve\n",
    "par(pty = \"s\")\n",
    "roc(wisc_pr_test$diagnosis, as.numeric(wisc_knn), plot = TRUE, legacy.axes = TRUE, percent = TRUE,\n",
    "    xlab = \"False Positive Percentage\", ylab = \"True Positive Percentage\", col = \"#4daf4a\", lwd = 4,\n",
    "    print.auc = TRUE)"
   ]
  },
  {
   "cell_type": "markdown",
   "metadata": {},
   "source": [
    "The kNN algorithm correctly classifies 94.2% of the observations in the test data, with an AUC value of 92.5%. Lastly, we turn to a random forest classifier."
   ]
  },
  {
   "cell_type": "markdown",
   "metadata": {},
   "source": [
    "# 6. Random Forest"
   ]
  },
  {
   "cell_type": "markdown",
   "metadata": {},
   "source": [
    "The random forest is an ensemble tree-based learning algorithm capable of performing both regression and classification tasks. Put simply, the algorithm builds many decision trees and merges them together to produce a more accurate and stable prediction. Each decision tree uses a subset of the predictor variables and training observations to predict the class of a new test example. The predictions of each tree are then averaged together to create an aggregate prediction that is used to classify the new observation.\n",
    "\n",
    "We choose to use 300 trees, as this value minimizes the out-of-bag (OOB) error rate estimate. This means that using 300 trees is likely to minimize the error rate when the algorithm attempts to classify new unseen data. As the code shows below, the OOB error rate estimate is 5.28%. "
   ]
  },
  {
   "cell_type": "code",
   "execution_count": 15,
   "metadata": {},
   "outputs": [
    {
     "data": {
      "text/plain": [
       "\n",
       "Call:\n",
       " randomForest(formula = diagnosis ~ PC1 + PC2 + PC3 + PC4 + PC5 +      PC6 + PC7, data = wisc_pr_train, ntree = 300) \n",
       "               Type of random forest: classification\n",
       "                     Number of trees: 300\n",
       "No. of variables tried at each split: 2\n",
       "\n",
       "        OOB estimate of  error rate: 5.28%\n",
       "Confusion matrix:\n",
       "    B   M class.error\n",
       "B 228  10  0.04201681\n",
       "M  10 131  0.07092199"
      ]
     },
     "metadata": {},
     "output_type": "display_data"
    },
    {
     "data": {
      "text/plain": [
       "          \n",
       "rf_predict   B   M\n",
       "         B 116   5\n",
       "         M   3  66"
      ]
     },
     "metadata": {},
     "output_type": "display_data"
    },
    {
     "data": {
      "text/html": [
       "0.957894736842105"
      ],
      "text/latex": [
       "0.957894736842105"
      ],
      "text/markdown": [
       "0.957894736842105"
      ],
      "text/plain": [
       "[1] 0.9578947"
      ]
     },
     "metadata": {},
     "output_type": "display_data"
    },
    {
     "name": "stderr",
     "output_type": "stream",
     "text": [
      "Setting levels: control = B, case = M\n",
      "\n",
      "Setting direction: controls < cases\n",
      "\n"
     ]
    },
    {
     "data": {
      "text/plain": [
       "\n",
       "Call:\n",
       "roc.default(response = wisc_pr_test$diagnosis, predictor = as.numeric(rf_predict),     percent = TRUE, plot = TRUE, legacy.axes = TRUE, xlab = \"False Positive Percentage\",     ylab = \"True Positive Percentage\", col = \"#e34a33\", lwd = 4,     print.auc = TRUE)\n",
       "\n",
       "Data: as.numeric(rf_predict) in 119 controls (wisc_pr_test$diagnosis B) < 71 cases (wisc_pr_test$diagnosis M).\n",
       "Area under the curve: 95.22%"
      ]
     },
     "metadata": {},
     "output_type": "display_data"
    },
    {
     "data": {
      "image/png": "[encoded data removed]",
      "text/plain": [
       "plot without title"
      ]
     },
     "metadata": {
      "image/png": {
       "height": 420,
       "width": 420
      }
     },
     "output_type": "display_data"
    }
   ],
   "source": [
    "#Run the Random Forest model\n",
    "set.seed(42)\n",
    "wisc_pr_rf <- randomForest(diagnosis ~ PC1 + PC2 + PC3 + PC4 + PC5 + PC6 + PC7, data = wisc_pr_train, ntree = 300)\n",
    "wisc_pr_rf\n",
    "\n",
    "#Make predictions on the test set\n",
    "rf_predict <- predict(wisc_pr_rf, wisc_pr_test[,1:7], type = \"response\")\n",
    "g <- table(rf_predict, wisc_pr_test$diagnosis)\n",
    "g\n",
    "sum(diag(g))/sum(g)\n",
    "\n",
    "#Plot ROC curve\n",
    "par(pty = \"s\")\n",
    "roc(wisc_pr_test$diagnosis, as.numeric(rf_predict), plot = TRUE, legacy.axes = TRUE, percent = TRUE,\n",
    "    xlab = \"False Positive Percentage\", ylab = \"True Positive Percentage\", col = \"#e34a33\", lwd = 4,\n",
    "    print.auc = TRUE)"
   ]
  },
  {
   "cell_type": "markdown",
   "metadata": {},
   "source": [
    "The random forest correctly predicts 95.8% of the test observations, with an AUC value of 95.2%."
   ]
  },
  {
   "cell_type": "markdown",
   "metadata": {},
   "source": [
    "# 7. Classifier Comparison"
   ]
  },
  {
   "cell_type": "code",
   "execution_count": 16,
   "metadata": {},
   "outputs": [
    {
     "name": "stderr",
     "output_type": "stream",
     "text": [
      "Setting levels: control = B, case = M\n",
      "\n",
      "Setting direction: controls < cases\n",
      "\n"
     ]
    },
    {
     "data": {
      "text/plain": [
       "\n",
       "Call:\n",
       "roc.default(response = wisc_pr_test$diagnosis, predictor = predicted,     percent = TRUE, plot = TRUE, legacy.axes = TRUE, xlab = \"False Positive Percentage\",     ylab = \"True Positive Percentage\", col = \"#377eb8\", lwd = 4,     print.auc = TRUE, print.auc.y = 60, print.auc.x = 30)\n",
       "\n",
       "Data: predicted in 119 controls (wisc_pr_test$diagnosis B) < 71 cases (wisc_pr_test$diagnosis M).\n",
       "Area under the curve: 95.77%"
      ]
     },
     "metadata": {},
     "output_type": "display_data"
    },
    {
     "name": "stderr",
     "output_type": "stream",
     "text": [
      "Setting levels: control = B, case = M\n",
      "\n",
      "Setting direction: controls < cases\n",
      "\n",
      "Setting levels: control = B, case = M\n",
      "\n",
      "Setting direction: controls < cases\n",
      "\n"
     ]
    },
    {
     "data": {
      "image/png": "[encoded data removed]",
      "text/plain": [
       "plot without title"
      ]
     },
     "metadata": {
      "image/png": {
       "height": 420,
       "width": 420
      }
     },
     "output_type": "display_data"
    }
   ],
   "source": [
    "#Plot ROC curve for logistic regression model\n",
    "#par(pty = \"s\")\n",
    "roc(wisc_pr_test$diagnosis, predicted, plot = TRUE, legacy.axes = TRUE, percent = TRUE,\n",
    "    xlab = \"False Positive Percentage\", ylab = \"True Positive Percentage\", col = \"#377eb8\", lwd = 4,\n",
    "    print.auc = TRUE, print.auc.y = 60, print.auc.x = 30)\n",
    "\n",
    "#Plot ROC curve for kNN classifier\n",
    "plot.roc(wisc_pr_test$diagnosis, as.numeric(wisc_knn), percent = TRUE, col = \"#4daf4a\", lwd = 4,\n",
    "    print.auc = TRUE, add = TRUE, print.auc.y = 50, print.auc.x = 30)\n",
    "\n",
    "#Plot ROC curve for RF\n",
    "plot.roc(wisc_pr_test$diagnosis, as.numeric(rf_predict), percent = TRUE, col = \"#e34a33\", lwd = 4,\n",
    "    print.auc = TRUE, add = TRUE, print.auc.y = 40, print.auc.x = 30)\n",
    "\n",
    "#Add legend to plot\n",
    "legend(\"bottomright\", legend = c(\"Logistic Regression\",\"kNN\",\"Random Forest\"), col = c(\"#377eb8\",\"#4daf4a\",\"#e34a33\"),\n",
    "       lwd = 4)"
   ]
  },
  {
   "cell_type": "markdown",
   "metadata": {},
   "source": [
    "The logistic regression model was the most accurate of the three models at predicting the diagnosis of new observations, with the random forest close behind. However, the classification performance of each of these classifiers is quite impressive. It is important to keep in mind that while the logistic regression model was most accurate in this case, the accuracy of each algorithm will vary depending on the selections of training and test data.\n",
    "\n",
    "These results may be extended by attempting other classification algorithms, such as support vector machines (SVM) and neural networks."
   ]
  }
 ],
 "metadata": {
  "kernelspec": {
   "display_name": "R",
   "language": "R",
   "name": "ir"
  },
  "language_info": {
   "codemirror_mode": "r",
   "file_extension": ".r",
   "mimetype": "text/x-r-source",
   "name": "R",
   "pygments_lexer": "r",
   "version": "4.0.2"
  }
 },
 "nbformat": 4,
 "nbformat_minor": 4
}
